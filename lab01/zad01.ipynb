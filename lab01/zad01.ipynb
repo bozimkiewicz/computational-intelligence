{
 "cells": [
  {
   "cell_type": "code",
   "execution_count": 1,
   "metadata": {},
   "outputs": [
    {
     "name": "stdout",
     "output_type": "stream",
     "text": [
      "2\n"
     ]
    }
   ],
   "source": [
    "# zad00\n",
    "\n",
    "def func(a, b):\n",
    "    result = (a+b) % 5\n",
    "    \n",
    "    print(result)\n",
    "\n",
    "func(2, 5)\n"
   ]
  },
  {
   "cell_type": "code",
   "execution_count": 3,
   "metadata": {},
   "outputs": [
    {
     "name": "stdout",
     "output_type": "stream",
     "text": [
      "True\n",
      "[2, 3, 5, 7]\n"
     ]
    }
   ],
   "source": [
    "# zad01\n",
    "\n",
    "# a)\n",
    "\n",
    "def prime(n):\n",
    "    counter = 0\n",
    "    for i in range(1, n+1):\n",
    "        if n % i == 0:\n",
    "            counter += 1\n",
    "    if counter == 2:\n",
    "        return True\n",
    "    return False\n",
    "    \n",
    "print(prime(3))\n",
    "\n",
    "# b)\n",
    "\n",
    "def select_primes(n):\n",
    "    result = []\n",
    "    for i in n:\n",
    "        if prime(i):\n",
    "            result.append(i)\n",
    "    return result\n",
    "\n",
    "print(select_primes([1, 2, 3, 4, 5, 6, 7, 8, 9, 10]))"
   ]
  }
 ],
 "metadata": {
  "kernelspec": {
   "display_name": "Python 3.10.7 64-bit",
   "language": "python",
   "name": "python3"
  },
  "language_info": {
   "codemirror_mode": {
    "name": "ipython",
    "version": 3
   },
   "file_extension": ".py",
   "mimetype": "text/x-python",
   "name": "python",
   "nbconvert_exporter": "python",
   "pygments_lexer": "ipython3",
   "version": "3.10.7"
  },
  "orig_nbformat": 4,
  "vscode": {
   "interpreter": {
    "hash": "369f2c481f4da34e4445cda3fffd2e751bd1c4d706f27375911949ba6bb62e1c"
   }
  }
 },
 "nbformat": 4,
 "nbformat_minor": 2
}
