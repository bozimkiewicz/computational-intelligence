{
 "cells": [
  {
   "cell_type": "code",
   "execution_count": 109,
   "metadata": {},
   "outputs": [],
   "source": [
    "import pandas as pd \n",
    "from sklearn.model_selection import train_test_split \n",
    " \n",
    "df = pd.read_csv(\"iris.csv\") \n",
    " \n",
    "train_set, test_set = train_test_split(df.values, train_size=0.7, \n",
    "random_state=269226)"
   ]
  },
  {
   "cell_type": "code",
   "execution_count": 110,
   "metadata": {},
   "outputs": [],
   "source": [
    "def classify_iris(sl, sw, pl, pw): \n",
    "    if pw <= 0.5: \n",
    "        return(\"setosa\") \n",
    "    elif pl >= 5 and sw >= 2.5 and sl >= 3: \n",
    "        return(\"virginica\") \n",
    "    else: \n",
    "        return(\"versicolor\")"
   ]
  },
  {
   "cell_type": "code",
   "execution_count": 111,
   "metadata": {},
   "outputs": [
    {
     "name": "stdout",
     "output_type": "stream",
     "text": [
      "43\n",
      "95.55555555555556 %\n"
     ]
    }
   ],
   "source": [
    "good_predictions = 0 \n",
    "len = test_set.shape[0] \n",
    " \n",
    "for i in range(len): \n",
    "    if classify_iris(test_set[i][0], test_set[i][1], test_set[i][2], test_set[i][3]) == test_set[i][4]: \n",
    "        good_predictions = good_predictions + 1 \n",
    " \n",
    "print(good_predictions) \n",
    "print(good_predictions/len*100, \"%\")"
   ]
  },
  {
   "cell_type": "code",
   "execution_count": 112,
   "metadata": {},
   "outputs": [
    {
     "name": "stdout",
     "output_type": "stream",
     "text": [
      "   sepal_length sepal_width petal_length petal_width    species\n",
      "0           5.0         3.4          1.5         0.2     setosa\n",
      "36          4.8         3.4          1.6         0.2     setosa\n",
      "38          5.2         3.4          1.4         0.2     setosa\n",
      "39          5.5         4.2          1.4         0.2     setosa\n",
      "43          5.1         3.8          1.5         0.3     setosa\n",
      "..          ...         ...          ...         ...        ...\n",
      "73          6.7         3.0          5.2         2.3  virginica\n",
      "74          6.1         3.0          4.9         1.8  virginica\n",
      "75          6.5         3.2          5.1         2.0  virginica\n",
      "8           7.3         2.9          6.3         1.8  virginica\n",
      "52          5.7         2.5          5.0         2.0  virginica\n",
      "\n",
      "[105 rows x 5 columns]\n"
     ]
    }
   ],
   "source": [
    "train_set_df = pd.DataFrame(train_set, columns=['sepal_length', 'sepal_width', 'petal_length', 'petal_width', 'species'])\n",
    "print(train_set_df.sort_values(by=['species']))"
   ]
  }
 ],
 "metadata": {
  "kernelspec": {
   "display_name": "Python 3",
   "language": "python",
   "name": "python3"
  },
  "language_info": {
   "codemirror_mode": {
    "name": "ipython",
    "version": 3
   },
   "file_extension": ".py",
   "mimetype": "text/x-python",
   "name": "python",
   "nbconvert_exporter": "python",
   "pygments_lexer": "ipython3",
   "version": "3.11.2"
  },
  "orig_nbformat": 4
 },
 "nbformat": 4,
 "nbformat_minor": 2
}
